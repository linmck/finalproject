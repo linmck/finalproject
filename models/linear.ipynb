{
 "cells": [
  {
   "cell_type": "markdown",
   "metadata": {},
   "source": [
    "# Linear Regression Model"
   ]
  },
  {
   "cell_type": "code",
   "execution_count": 38,
   "metadata": {},
   "outputs": [],
   "source": [
    "# Installations\n",
    "# !pip install keras\n",
    "# !pip install tensorflow\n",
    "# !pip install sklearn --upgrade\n",
    "# !pip install joblib"
   ]
  },
  {
   "cell_type": "code",
   "execution_count": 39,
   "metadata": {},
   "outputs": [],
   "source": [
    "import warnings\n",
    "warnings.simplefilter('ignore')\n",
    "\n",
    "# Load dependencies\n",
    "import os\n",
    "import pandas as pd\n",
    "import numpy as np\n",
    "import matplotlib.pyplot as plt\n",
    "\n",
    "# Set the same starting seed number for numpy.random so the results are reproducible\n",
    "from numpy.random import seed\n",
    "seed(42)"
   ]
  },
  {
   "cell_type": "markdown",
   "metadata": {},
   "source": [
    "## Basic Data Cleaning"
   ]
  },
  {
   "cell_type": "code",
   "execution_count": 40,
   "metadata": {},
   "outputs": [
    {
     "data": {
      "text/html": [
       "<div>\n",
       "<style scoped>\n",
       "    .dataframe tbody tr th:only-of-type {\n",
       "        vertical-align: middle;\n",
       "    }\n",
       "\n",
       "    .dataframe tbody tr th {\n",
       "        vertical-align: top;\n",
       "    }\n",
       "\n",
       "    .dataframe thead th {\n",
       "        text-align: right;\n",
       "    }\n",
       "</style>\n",
       "<table border=\"1\" class=\"dataframe\">\n",
       "  <thead>\n",
       "    <tr style=\"text-align: right;\">\n",
       "      <th></th>\n",
       "      <th>Unnamed: 0</th>\n",
       "      <th>Country Name</th>\n",
       "      <th>Country Code</th>\n",
       "      <th>Indicator Name</th>\n",
       "      <th>Indicator Code</th>\n",
       "      <th>Year</th>\n",
       "      <th>Value</th>\n",
       "      <th>HDI</th>\n",
       "    </tr>\n",
       "  </thead>\n",
       "  <tbody>\n",
       "    <tr>\n",
       "      <th>0</th>\n",
       "      <td>0</td>\n",
       "      <td>South Asia</td>\n",
       "      <td>SAS</td>\n",
       "      <td>Population, total</td>\n",
       "      <td>SP.POP.TOTL</td>\n",
       "      <td>1990</td>\n",
       "      <td>1.133495e+09</td>\n",
       "      <td>0.441</td>\n",
       "    </tr>\n",
       "    <tr>\n",
       "      <th>1</th>\n",
       "      <td>1</td>\n",
       "      <td>South Asia</td>\n",
       "      <td>SAS</td>\n",
       "      <td>Life expectancy at birth, total (years)</td>\n",
       "      <td>SP.DYN.LE00.IN</td>\n",
       "      <td>1990</td>\n",
       "      <td>5.814480e+01</td>\n",
       "      <td>0.441</td>\n",
       "    </tr>\n",
       "    <tr>\n",
       "      <th>2</th>\n",
       "      <td>2</td>\n",
       "      <td>South Asia</td>\n",
       "      <td>SAS</td>\n",
       "      <td>GDP (current US$)</td>\n",
       "      <td>NY.GDP.MKTP.CD</td>\n",
       "      <td>1990</td>\n",
       "      <td>4.072270e+11</td>\n",
       "      <td>0.441</td>\n",
       "    </tr>\n",
       "    <tr>\n",
       "      <th>3</th>\n",
       "      <td>3</td>\n",
       "      <td>South Asia</td>\n",
       "      <td>SAS</td>\n",
       "      <td>Employers, total (% of total employment) (mode...</td>\n",
       "      <td>SL.EMP.MPYR.ZS</td>\n",
       "      <td>1990</td>\n",
       "      <td>NaN</td>\n",
       "      <td>0.441</td>\n",
       "    </tr>\n",
       "    <tr>\n",
       "      <th>4</th>\n",
       "      <td>4</td>\n",
       "      <td>South Asia</td>\n",
       "      <td>SAS</td>\n",
       "      <td>Agriculture, forestry, and fishing, value adde...</td>\n",
       "      <td>NV.AGR.TOTL.ZS</td>\n",
       "      <td>1990</td>\n",
       "      <td>2.691710e+01</td>\n",
       "      <td>0.441</td>\n",
       "    </tr>\n",
       "  </tbody>\n",
       "</table>\n",
       "</div>"
      ],
      "text/plain": [
       "   Unnamed: 0 Country Name Country Code  \\\n",
       "0           0   South Asia          SAS   \n",
       "1           1   South Asia          SAS   \n",
       "2           2   South Asia          SAS   \n",
       "3           3   South Asia          SAS   \n",
       "4           4   South Asia          SAS   \n",
       "\n",
       "                                      Indicator Name  Indicator Code  Year  \\\n",
       "0                                  Population, total     SP.POP.TOTL  1990   \n",
       "1            Life expectancy at birth, total (years)  SP.DYN.LE00.IN  1990   \n",
       "2                                  GDP (current US$)  NY.GDP.MKTP.CD  1990   \n",
       "3  Employers, total (% of total employment) (mode...  SL.EMP.MPYR.ZS  1990   \n",
       "4  Agriculture, forestry, and fishing, value adde...  NV.AGR.TOTL.ZS  1990   \n",
       "\n",
       "          Value    HDI  \n",
       "0  1.133495e+09  0.441  \n",
       "1  5.814480e+01  0.441  \n",
       "2  4.072270e+11  0.441  \n",
       "3           NaN  0.441  \n",
       "4  2.691710e+01  0.441  "
      ]
     },
     "execution_count": 40,
     "metadata": {},
     "output_type": "execute_result"
    }
   ],
   "source": [
    "# Read and clean the data\n",
    "# filepath = os.path.join('..','resources','WDI_csv','WDIData.csv')\n",
    "filepath = os.path.join('..','resources','new_df.csv')\n",
    "df = pd.read_csv(filepath)\n",
    "df.head()"
   ]
  },
  {
   "cell_type": "code",
   "execution_count": 41,
   "metadata": {},
   "outputs": [
    {
     "name": "stdout",
     "output_type": "stream",
     "text": [
      "(4988, 8)\n",
      "(4168, 8)\n"
     ]
    },
    {
     "data": {
      "text/html": [
       "<div>\n",
       "<style scoped>\n",
       "    .dataframe tbody tr th:only-of-type {\n",
       "        vertical-align: middle;\n",
       "    }\n",
       "\n",
       "    .dataframe tbody tr th {\n",
       "        vertical-align: top;\n",
       "    }\n",
       "\n",
       "    .dataframe thead th {\n",
       "        text-align: right;\n",
       "    }\n",
       "</style>\n",
       "<table border=\"1\" class=\"dataframe\">\n",
       "  <thead>\n",
       "    <tr style=\"text-align: right;\">\n",
       "      <th></th>\n",
       "      <th>Unnamed: 0</th>\n",
       "      <th>Country Name</th>\n",
       "      <th>Country Code</th>\n",
       "      <th>Indicator Name</th>\n",
       "      <th>Indicator Code</th>\n",
       "      <th>Year</th>\n",
       "      <th>Value</th>\n",
       "      <th>HDI</th>\n",
       "    </tr>\n",
       "  </thead>\n",
       "  <tbody>\n",
       "    <tr>\n",
       "      <th>3231</th>\n",
       "      <td>3231</td>\n",
       "      <td>Rwanda</td>\n",
       "      <td>RWA</td>\n",
       "      <td>Life expectancy at birth, total (years)</td>\n",
       "      <td>SP.DYN.LE00.IN</td>\n",
       "      <td>1993</td>\n",
       "      <td>26.172</td>\n",
       "      <td>0.195</td>\n",
       "    </tr>\n",
       "    <tr>\n",
       "      <th>2371</th>\n",
       "      <td>2371</td>\n",
       "      <td>Rwanda</td>\n",
       "      <td>RWA</td>\n",
       "      <td>Life expectancy at birth, total (years)</td>\n",
       "      <td>SP.DYN.LE00.IN</td>\n",
       "      <td>1992</td>\n",
       "      <td>26.691</td>\n",
       "      <td>0.2</td>\n",
       "    </tr>\n",
       "    <tr>\n",
       "      <th>4091</th>\n",
       "      <td>4091</td>\n",
       "      <td>Rwanda</td>\n",
       "      <td>RWA</td>\n",
       "      <td>Life expectancy at birth, total (years)</td>\n",
       "      <td>SP.DYN.LE00.IN</td>\n",
       "      <td>1994</td>\n",
       "      <td>27.738</td>\n",
       "      <td>0.189</td>\n",
       "    </tr>\n",
       "    <tr>\n",
       "      <th>1511</th>\n",
       "      <td>1511</td>\n",
       "      <td>Rwanda</td>\n",
       "      <td>RWA</td>\n",
       "      <td>Life expectancy at birth, total (years)</td>\n",
       "      <td>SP.DYN.LE00.IN</td>\n",
       "      <td>1991</td>\n",
       "      <td>29.248</td>\n",
       "      <td>0.218</td>\n",
       "    </tr>\n",
       "    <tr>\n",
       "      <th>4951</th>\n",
       "      <td>4951</td>\n",
       "      <td>Rwanda</td>\n",
       "      <td>RWA</td>\n",
       "      <td>Life expectancy at birth, total (years)</td>\n",
       "      <td>SP.DYN.LE00.IN</td>\n",
       "      <td>1995</td>\n",
       "      <td>31.037</td>\n",
       "      <td>0.228</td>\n",
       "    </tr>\n",
       "  </tbody>\n",
       "</table>\n",
       "</div>"
      ],
      "text/plain": [
       "      Unnamed: 0 Country Name Country Code  \\\n",
       "3231        3231       Rwanda          RWA   \n",
       "2371        2371       Rwanda          RWA   \n",
       "4091        4091       Rwanda          RWA   \n",
       "1511        1511       Rwanda          RWA   \n",
       "4951        4951       Rwanda          RWA   \n",
       "\n",
       "                               Indicator Name  Indicator Code  Year   Value  \\\n",
       "3231  Life expectancy at birth, total (years)  SP.DYN.LE00.IN  1993  26.172   \n",
       "2371  Life expectancy at birth, total (years)  SP.DYN.LE00.IN  1992  26.691   \n",
       "4091  Life expectancy at birth, total (years)  SP.DYN.LE00.IN  1994  27.738   \n",
       "1511  Life expectancy at birth, total (years)  SP.DYN.LE00.IN  1991  29.248   \n",
       "4951  Life expectancy at birth, total (years)  SP.DYN.LE00.IN  1995  31.037   \n",
       "\n",
       "        HDI  \n",
       "3231  0.195  \n",
       "2371    0.2  \n",
       "4091  0.189  \n",
       "1511  0.218  \n",
       "4951  0.228  "
      ]
     },
     "execution_count": 41,
     "metadata": {},
     "output_type": "execute_result"
    }
   ],
   "source": [
    "# Grab only the rows belonging to the specified indicator\n",
    "# indicator = \"GNI growth (annual %)\"\n",
    "# indicator = \"Population, total\"\n",
    "indicator = \"Life expectancy at birth, total (years)\"\n",
    "# indicator = \"GDP (current US$)\"\n",
    "# indicator = \"Employers, total (% of total employment) (modeled ILO estimate)\"\n",
    "# indicator = \"Agriculture, forestry, and fishing, value added (% of GDP)\"\n",
    "\n",
    "indicator_df = df.loc[df[\"Indicator Name\"] == indicator, :]\n",
    "print(indicator_df.shape)\n",
    "\n",
    "# Drop the null rows\n",
    "indicator_df = indicator_df.dropna()\n",
    "indicator_df.drop(indicator_df[indicator_df.HDI == \"..\"].index, inplace=True)\n",
    "indicator_df = indicator_df.sort_values(\"Value\")\n",
    "print(indicator_df.shape)\n",
    "\n",
    "# Test Agriculture\n",
    "# indicator_df.drop(indicator_df[indicator_df.Value > 50].index, inplace=True)\n",
    "# print(indicator_df.shape)\n",
    "# Score 0.68466...\n",
    "\n",
    "indicator_df.head()"
   ]
  },
  {
   "cell_type": "code",
   "execution_count": 42,
   "metadata": {},
   "outputs": [
    {
     "name": "stdout",
     "output_type": "stream",
     "text": [
      "(4168, 1)\n",
      "(4168, 1)\n"
     ]
    }
   ],
   "source": [
    "# Flatten the data into arrays\n",
    "X = np.array(indicator_df[\"Value\"])\n",
    "# X = indicator_df[\"Value\"]\n",
    "\n",
    "y = np.array(indicator_df[\"HDI\"].astype('float'))\n",
    "# y = indicator_df[\"HDI\"].astype('float')\n",
    "\n",
    "X = X.reshape(-1, 1)\n",
    "y = y.reshape(-1, 1)\n",
    "\n",
    "print(X.shape)\n",
    "print(y.shape)"
   ]
  },
  {
   "cell_type": "markdown",
   "metadata": {},
   "source": [
    "## Plot the Data"
   ]
  },
  {
   "cell_type": "code",
   "execution_count": 43,
   "metadata": {},
   "outputs": [
    {
     "data": {
      "image/png": "[encoded data removed]",
      "text/plain": [
       "<Figure size 432x288 with 1 Axes>"
      ]
     },
     "metadata": {
      "needs_background": "light"
     },
     "output_type": "display_data"
    }
   ],
   "source": [
    "fig, ax = plt.subplots()\n",
    "ax.scatter(X, y)\n",
    "plt.xlabel(indicator)\n",
    "plt.ylabel(\"HDI\")\n",
    "plt.show()"
   ]
  },
  {
   "cell_type": "markdown",
   "metadata": {},
   "source": [
    "## Data Preprocessing for ML"
   ]
  },
  {
   "cell_type": "code",
   "execution_count": 44,
   "metadata": {},
   "outputs": [],
   "source": [
    "# Split into Test and Train data\n",
    "from sklearn.model_selection import train_test_split\n",
    "\n",
    "X_train, X_test, y_train, y_test = train_test_split(X, y, random_state=1)"
   ]
  },
  {
   "cell_type": "code",
   "execution_count": 45,
   "metadata": {},
   "outputs": [],
   "source": [
    "# Scale the data\n",
    "from sklearn.preprocessing import StandardScaler\n",
    "X_scaler = StandardScaler().fit(X_train)\n",
    "y_scaler = StandardScaler().fit(y_train)"
   ]
  },
  {
   "cell_type": "code",
   "execution_count": 46,
   "metadata": {},
   "outputs": [],
   "source": [
    "# Transform the training and test data\n",
    "X_train_scaled = X_scaler.transform(X_train)\n",
    "X_test_scaled = X_scaler.transform(X_test)\n",
    "y_train_scaled = y_scaler.transform(y_train)\n",
    "y_test_scaled = y_scaler.transform(y_test)"
   ]
  },
  {
   "cell_type": "markdown",
   "metadata": {},
   "source": [
    "## Creating the Model"
   ]
  },
  {
   "cell_type": "markdown",
   "metadata": {},
   "source": [
    "### Linear Regression Model"
   ]
  },
  {
   "cell_type": "code",
   "execution_count": 47,
   "metadata": {},
   "outputs": [],
   "source": [
    "from sklearn.linear_model import LinearRegression\n",
    "from sklearn.metrics import mean_squared_error, r2_score"
   ]
  },
  {
   "cell_type": "code",
   "execution_count": 48,
   "metadata": {},
   "outputs": [
    {
     "name": "stdout",
     "output_type": "stream",
     "text": [
      "R2 Score: 0.8316496124036281\n",
      "Mean Squared Error (MSE): 0.16834852027517616\n",
      "Linear Coefficient: 0.9149631150208571\n",
      "y-Axis Intercept: 6.885552301810692e-16\n"
     ]
    }
   ],
   "source": [
    "# Create the model using LinearRegression\n",
    "linear = LinearRegression()\n",
    "\n",
    "# Train the model\n",
    "linear.fit(X_train_scaled, y_train_scaled)\n",
    "\n",
    "# Use our model to make predictions\n",
    "predictions = linear.predict(X_test_scaled)\n",
    "\n",
    "# Score the model\n",
    "# training_score = model.score(X_train_scaled, y_train_scaled)\n",
    "# testing_score = model.score(X_test_scaled, y_test_scaled)\n",
    "r2 = linear.score(X_test_scaled, y_test_scaled)\n",
    "mse = mean_squared_error(y_test_scaled, predictions)\n",
    "\n",
    "# print(f\"Training Score: {training_score}\")\n",
    "# print(f\"Testing Score: {testing_score}\")\n",
    "print(f\"R2 Score: {r2}\")\n",
    "print(f\"Mean Squared Error (MSE): {mse}\")\n",
    "print(f\"Linear Coefficient: {linear.coef_[0][0]}\")\n",
    "print(f\"y-Axis Intercept: {linear.intercept_[0]}\")"
   ]
  },
  {
   "cell_type": "markdown",
   "metadata": {},
   "source": [
    "### Plot the Model"
   ]
  },
  {
   "cell_type": "code",
   "execution_count": 49,
   "metadata": {},
   "outputs": [
    {
     "data": {
      "image/png": "[encoded data removed]",
      "text/plain": [
       "<Figure size 432x288 with 1 Axes>"
      ]
     },
     "metadata": {
      "needs_background": "light"
     },
     "output_type": "display_data"
    }
   ],
   "source": [
    "# Plot the model\n",
    "x_min = np.array([[X_train_scaled.min()]])\n",
    "x_max = np.array([[X_train_scaled.max()]])\n",
    "y_min = linear.predict(x_min)\n",
    "y_max = linear.predict(x_max)\n",
    "plt.scatter(X_train_scaled, y_train_scaled, c='blue')\n",
    "plt.plot([x_min[0], x_max[0]], [y_min[0], y_max[0]], c='red')\n",
    "plt.title(\"Linear Regression Model\")\n",
    "plt.xlabel(f\"{indicator} (Scaled)\")\n",
    "plt.ylabel(\"HDI (Scaled)\")\n",
    "plt.show()"
   ]
  },
  {
   "cell_type": "markdown",
   "metadata": {},
   "source": [
    "### Predicting HDI value"
   ]
  },
  {
   "cell_type": "code",
   "execution_count": 53,
   "metadata": {},
   "outputs": [
    {
     "name": "stdout",
     "output_type": "stream",
     "text": [
      "If a country's Life expectancy at birth, total (years) is 65, we expect HDI to be approximately 0.5962739563342725.\n"
     ]
    }
   ],
   "source": [
    "feed_value = 65\n",
    "X_scaled = X_scaler.transform([[feed_value]])\n",
    "y_scaled = linear.predict(X_scaled)\n",
    "predicted_y = y_scaler.inverse_transform(y_scaled)\n",
    "predicted_HDI = predicted_y[0][0]\n",
    "predicted_HDI\n",
    "print(f\"If a country's {indicator} is {feed_value}, we expect HDI to be approximately {predicted_HDI}.\")"
   ]
  },
  {
   "cell_type": "markdown",
   "metadata": {},
   "source": [
    "### Plot the Residuals"
   ]
  },
  {
   "cell_type": "code",
   "execution_count": 51,
   "metadata": {},
   "outputs": [
    {
     "data": {
      "image/png": "[encoded data removed]",
      "text/plain": [
       "<Figure size 432x288 with 1 Axes>"
      ]
     },
     "metadata": {
      "needs_background": "light"
     },
     "output_type": "display_data"
    }
   ],
   "source": [
    "# Plot the residuals\n",
    "y_train_predict = linear.predict(X_train_scaled)\n",
    "y_test_predict = linear.predict(X_test_scaled)\n",
    "y_train_residual = linear.predict(X_train_scaled) - y_train_scaled\n",
    "y_test_residual = linear.predict(X_test_scaled) - y_test_scaled\n",
    "\n",
    "plt.scatter(y_train_predict, y_train_residual, c=\"blue\", label=\"Training Data\")\n",
    "plt.scatter(y_test_predict, y_test_residual, c=\"orange\", label=\"Testing Data\")\n",
    "plt.legend()\n",
    "plt.hlines(y=0, xmin=y_train_predict.min(), xmax=y_train_predict.max())\n",
    "plt.title(\"Residual Plot\")\n",
    "plt.xlabel(\"Prediction\")\n",
    "plt.ylabel(\"Residual\")\n",
    "plt.show()"
   ]
  }
 ],
 "metadata": {
  "kernelspec": {
   "display_name": "Python 3",
   "language": "python",
   "name": "python3"
  },
  "language_info": {
   "codemirror_mode": {
    "name": "ipython",
    "version": 3
   },
   "file_extension": ".py",
   "mimetype": "text/x-python",
   "name": "python",
   "nbconvert_exporter": "python",
   "pygments_lexer": "ipython3",
   "version": "3.6.8"
  }
 },
 "nbformat": 4,
 "nbformat_minor": 2
}
