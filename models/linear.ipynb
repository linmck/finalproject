{
 "cells": [
  {
   "cell_type": "markdown",
   "metadata": {},
   "source": [
    "# Linear Regression Model"
   ]
  },
  {
   "cell_type": "code",
   "execution_count": 1,
   "metadata": {},
   "outputs": [],
   "source": [
    "# Installations\n",
    "# !pip install keras\n",
    "# !pip install tensorflow\n",
    "# !pip install sklearn --upgrade\n",
    "# !pip install joblib"
   ]
  },
  {
   "cell_type": "code",
   "execution_count": 2,
   "metadata": {},
   "outputs": [],
   "source": [
    "import warnings\n",
    "warnings.simplefilter('ignore')\n",
    "\n",
    "# Load dependencies\n",
    "import os\n",
    "import pandas as pd\n",
    "import numpy as np\n",
    "import matplotlib.pyplot as plt\n",
    "\n",
    "# Set the same starting seed number for numpy.random so the results are reproducible\n",
    "from numpy.random import seed\n",
    "seed(42)"
   ]
  },
  {
   "cell_type": "markdown",
   "metadata": {},
   "source": [
    "## Basic Data Cleaning"
   ]
  },
  {
   "cell_type": "code",
   "execution_count": 7,
   "metadata": {},
   "outputs": [
    {
     "data": {
      "text/html": [
       "<div>\n",
       "<style scoped>\n",
       "    .dataframe tbody tr th:only-of-type {\n",
       "        vertical-align: middle;\n",
       "    }\n",
       "\n",
       "    .dataframe tbody tr th {\n",
       "        vertical-align: top;\n",
       "    }\n",
       "\n",
       "    .dataframe thead th {\n",
       "        text-align: right;\n",
       "    }\n",
       "</style>\n",
       "<table border=\"1\" class=\"dataframe\">\n",
       "  <thead>\n",
       "    <tr style=\"text-align: right;\">\n",
       "      <th></th>\n",
       "      <th>Unnamed: 0</th>\n",
       "      <th>country_name</th>\n",
       "      <th>indicator_name</th>\n",
       "      <th>year</th>\n",
       "      <th>value</th>\n",
       "      <th>hdi</th>\n",
       "    </tr>\n",
       "  </thead>\n",
       "  <tbody>\n",
       "    <tr>\n",
       "      <th>21505</th>\n",
       "      <td>913</td>\n",
       "      <td>Venezuela</td>\n",
       "      <td>Gender Inequality Index</td>\n",
       "      <td>2018</td>\n",
       "      <td>0.458</td>\n",
       "      <td>NaN</td>\n",
       "    </tr>\n",
       "    <tr>\n",
       "      <th>21506</th>\n",
       "      <td>914</td>\n",
       "      <td>Viet</td>\n",
       "      <td>Gender Inequality Index</td>\n",
       "      <td>2018</td>\n",
       "      <td>0.314</td>\n",
       "      <td>NaN</td>\n",
       "    </tr>\n",
       "    <tr>\n",
       "      <th>21507</th>\n",
       "      <td>915</td>\n",
       "      <td>Yemen</td>\n",
       "      <td>Gender Inequality Index</td>\n",
       "      <td>2018</td>\n",
       "      <td>0.834</td>\n",
       "      <td>0.463</td>\n",
       "    </tr>\n",
       "    <tr>\n",
       "      <th>21508</th>\n",
       "      <td>916</td>\n",
       "      <td>Zambia</td>\n",
       "      <td>Gender Inequality Index</td>\n",
       "      <td>2018</td>\n",
       "      <td>0.540</td>\n",
       "      <td>0.591</td>\n",
       "    </tr>\n",
       "    <tr>\n",
       "      <th>21509</th>\n",
       "      <td>917</td>\n",
       "      <td>Zimbabwe</td>\n",
       "      <td>Gender Inequality Index</td>\n",
       "      <td>2018</td>\n",
       "      <td>0.525</td>\n",
       "      <td>0.563</td>\n",
       "    </tr>\n",
       "  </tbody>\n",
       "</table>\n",
       "</div>"
      ],
      "text/plain": [
       "       Unnamed: 0 country_name           indicator_name  year  value    hdi\n",
       "21505         913    Venezuela  Gender Inequality Index  2018  0.458    NaN\n",
       "21506         914         Viet  Gender Inequality Index  2018  0.314    NaN\n",
       "21507         915        Yemen  Gender Inequality Index  2018  0.834  0.463\n",
       "21508         916       Zambia  Gender Inequality Index  2018  0.540  0.591\n",
       "21509         917     Zimbabwe  Gender Inequality Index  2018  0.525  0.563"
      ]
     },
     "execution_count": 7,
     "metadata": {},
     "output_type": "execute_result"
    }
   ],
   "source": [
    "# Read and clean the data\n",
    "# primary = os.path.join('..','resources','primary_indicators.csv')\n",
    "education = os.path.join('..','resources','education_df.csv')\n",
    "gender = os.path.join('..','resources','gender_df.csv')\n",
    "\n",
    "# primary_df = pd.read_csv(primary)\n",
    "education_df = pd.read_csv(education)\n",
    "gender_df = pd.read_csv(gender)\n",
    "\n",
    "education_df = education_df.loc[education_df[\"indicator_name\"] == \"Education Index\"]\n",
    "gender_df = gender_df.loc[gender_df[\"indicator_name\"] == \"Gender Inequality Index\"]\n",
    "\n",
    "# all_dfs = [primary_df, education_df, gender_df]\n",
    "# df = pd.concat(all_dfs)\n",
    "\n",
    "secondary_dfs = [education_df, gender_df]\n",
    "df = pd.concat(secondary_dfs)\n",
    "\n",
    "df.tail()"
   ]
  },
  {
   "cell_type": "code",
   "execution_count": 8,
   "metadata": {},
   "outputs": [],
   "source": [
    "filepath = os.path.join('..','static','secondary_pivot.csv')\n",
    "df.to_csv(filepath, header = True)"
   ]
  },
  {
   "cell_type": "code",
   "execution_count": 9,
   "metadata": {},
   "outputs": [
    {
     "name": "stdout",
     "output_type": "stream",
     "text": [
      "(794, 6)\n",
      "(637, 6)\n"
     ]
    },
    {
     "data": {
      "text/html": [
       "<div>\n",
       "<style scoped>\n",
       "    .dataframe tbody tr th:only-of-type {\n",
       "        vertical-align: middle;\n",
       "    }\n",
       "\n",
       "    .dataframe tbody tr th {\n",
       "        vertical-align: top;\n",
       "    }\n",
       "\n",
       "    .dataframe thead th {\n",
       "        text-align: right;\n",
       "    }\n",
       "</style>\n",
       "<table border=\"1\" class=\"dataframe\">\n",
       "  <thead>\n",
       "    <tr style=\"text-align: right;\">\n",
       "      <th></th>\n",
       "      <th>Unnamed: 0</th>\n",
       "      <th>country_name</th>\n",
       "      <th>indicator_name</th>\n",
       "      <th>year</th>\n",
       "      <th>value</th>\n",
       "      <th>hdi</th>\n",
       "    </tr>\n",
       "  </thead>\n",
       "  <tbody>\n",
       "    <tr>\n",
       "      <th>21488</th>\n",
       "      <td>896</td>\n",
       "      <td>Switzerland</td>\n",
       "      <td>Gender Inequality Index</td>\n",
       "      <td>2018</td>\n",
       "      <td>0.037</td>\n",
       "      <td>0.946</td>\n",
       "    </tr>\n",
       "    <tr>\n",
       "      <th>21487</th>\n",
       "      <td>895</td>\n",
       "      <td>Sweden</td>\n",
       "      <td>Gender Inequality Index</td>\n",
       "      <td>2018</td>\n",
       "      <td>0.040</td>\n",
       "      <td>0.937</td>\n",
       "    </tr>\n",
       "    <tr>\n",
       "      <th>21326</th>\n",
       "      <td>707</td>\n",
       "      <td>Switzerland</td>\n",
       "      <td>Gender Inequality Index</td>\n",
       "      <td>2017</td>\n",
       "      <td>0.040</td>\n",
       "      <td>0.943</td>\n",
       "    </tr>\n",
       "    <tr>\n",
       "      <th>21391</th>\n",
       "      <td>799</td>\n",
       "      <td>Denmark</td>\n",
       "      <td>Gender Inequality Index</td>\n",
       "      <td>2018</td>\n",
       "      <td>0.040</td>\n",
       "      <td>0.930</td>\n",
       "    </tr>\n",
       "    <tr>\n",
       "      <th>21230</th>\n",
       "      <td>610</td>\n",
       "      <td>Denmark</td>\n",
       "      <td>Gender Inequality Index</td>\n",
       "      <td>2017</td>\n",
       "      <td>0.041</td>\n",
       "      <td>0.929</td>\n",
       "    </tr>\n",
       "  </tbody>\n",
       "</table>\n",
       "</div>"
      ],
      "text/plain": [
       "       Unnamed: 0 country_name           indicator_name  year  value    hdi\n",
       "21488         896  Switzerland  Gender Inequality Index  2018  0.037  0.946\n",
       "21487         895       Sweden  Gender Inequality Index  2018  0.040  0.937\n",
       "21326         707  Switzerland  Gender Inequality Index  2017  0.040  0.943\n",
       "21391         799      Denmark  Gender Inequality Index  2018  0.040  0.930\n",
       "21230         610      Denmark  Gender Inequality Index  2017  0.041  0.929"
      ]
     },
     "execution_count": 9,
     "metadata": {},
     "output_type": "execute_result"
    }
   ],
   "source": [
    "# Grab only the rows belonging to the specified indicator\n",
    "# indicator = \"Population, total\"\n",
    "# indicator = \"Life expectancy at birth, total (years)\"\n",
    "# indicator = \"GDP (current US$)\"\n",
    "# indicator = \"Employers, total (% of total employment) (modeled ILO estimate)\"\n",
    "# indicator = \"Agriculture, forestry, and fishing, value added (% of GDP)\"\n",
    "# indicator = \"Education Index\"\n",
    "indicator = \"Gender Inequality Index\"\n",
    "\n",
    "indicator_df = df.loc[df[\"indicator_name\"] == indicator, :]\n",
    "print(indicator_df.shape)\n",
    "\n",
    "# Drop the null rows\n",
    "indicator_df = indicator_df.dropna()\n",
    "indicator_df = indicator_df.sort_values(\"value\")\n",
    "print(indicator_df.shape)\n",
    "\n",
    "indicator_df.head()"
   ]
  },
  {
   "cell_type": "code",
   "execution_count": 10,
   "metadata": {},
   "outputs": [
    {
     "name": "stdout",
     "output_type": "stream",
     "text": [
      "(637, 1)\n",
      "(637, 1)\n"
     ]
    }
   ],
   "source": [
    "# Flatten the data into arrays\n",
    "X = np.array(indicator_df[\"value\"])\n",
    "y = np.array(indicator_df[\"hdi\"].astype('float'))\n",
    "\n",
    "X = X.reshape(-1, 1)\n",
    "y = y.reshape(-1, 1)\n",
    "\n",
    "print(X.shape)\n",
    "print(y.shape)"
   ]
  },
  {
   "cell_type": "markdown",
   "metadata": {},
   "source": [
    "## Plot the Data"
   ]
  },
  {
   "cell_type": "code",
   "execution_count": 11,
   "metadata": {},
   "outputs": [
    {
     "data": {
      "image/png": "[encoded data removed]",
      "text/plain": [
       "<Figure size 432x288 with 1 Axes>"
      ]
     },
     "metadata": {
      "needs_background": "light"
     },
     "output_type": "display_data"
    }
   ],
   "source": [
    "fig, ax = plt.subplots()\n",
    "ax.scatter(X, y)\n",
    "plt.xlabel(indicator)\n",
    "plt.ylabel(\"HDI\")\n",
    "plt.show()"
   ]
  },
  {
   "cell_type": "markdown",
   "metadata": {},
   "source": [
    "## Data Preprocessing for ML"
   ]
  },
  {
   "cell_type": "code",
   "execution_count": 12,
   "metadata": {},
   "outputs": [],
   "source": [
    "# Split into Test and Train data\n",
    "from sklearn.model_selection import train_test_split\n",
    "\n",
    "X_train, X_test, y_train, y_test = train_test_split(X, y, random_state=1)"
   ]
  },
  {
   "cell_type": "code",
   "execution_count": 13,
   "metadata": {},
   "outputs": [],
   "source": [
    "# Scale the data\n",
    "from sklearn.preprocessing import StandardScaler\n",
    "X_scaler = StandardScaler().fit(X_train)\n",
    "y_scaler = StandardScaler().fit(y_train)"
   ]
  },
  {
   "cell_type": "code",
   "execution_count": 14,
   "metadata": {},
   "outputs": [],
   "source": [
    "# Transform the training and test data\n",
    "X_train_scaled = X_scaler.transform(X_train)\n",
    "X_test_scaled = X_scaler.transform(X_test)\n",
    "y_train_scaled = y_scaler.transform(y_train)\n",
    "y_test_scaled = y_scaler.transform(y_test)"
   ]
  },
  {
   "cell_type": "markdown",
   "metadata": {},
   "source": [
    "## Creating the Model"
   ]
  },
  {
   "cell_type": "markdown",
   "metadata": {},
   "source": [
    "### Linear Regression Model"
   ]
  },
  {
   "cell_type": "code",
   "execution_count": 15,
   "metadata": {},
   "outputs": [],
   "source": [
    "from sklearn.linear_model import LinearRegression\n",
    "from sklearn.metrics import mean_squared_error, r2_score"
   ]
  },
  {
   "cell_type": "code",
   "execution_count": 16,
   "metadata": {},
   "outputs": [
    {
     "name": "stdout",
     "output_type": "stream",
     "text": [
      "R2 Score: 0.816192887672184\n",
      "Mean Squared Error (MSE): 0.23594047353420558\n",
      "Linear Coefficient: -0.9000781952759357\n",
      "y-Axis Intercept: 6.043985979981646e-16\n"
     ]
    }
   ],
   "source": [
    "# Create the model using LinearRegression\n",
    "linear = LinearRegression()\n",
    "\n",
    "# Train the model\n",
    "linear.fit(X_train_scaled, y_train_scaled)\n",
    "\n",
    "# Use our model to make predictions\n",
    "predictions = linear.predict(X_test_scaled)\n",
    "\n",
    "# Score the model\n",
    "# training_score = model.score(X_train_scaled, y_train_scaled)\n",
    "# testing_score = model.score(X_test_scaled, y_test_scaled)\n",
    "r2 = linear.score(X_test_scaled, y_test_scaled)\n",
    "mse = mean_squared_error(y_test_scaled, predictions)\n",
    "\n",
    "# print(f\"Training Score: {training_score}\")\n",
    "# print(f\"Testing Score: {testing_score}\")\n",
    "print(f\"R2 Score: {r2}\")\n",
    "print(f\"Mean Squared Error (MSE): {mse}\")\n",
    "print(f\"Linear Coefficient: {linear.coef_[0][0]}\")\n",
    "print(f\"y-Axis Intercept: {linear.intercept_[0]}\")"
   ]
  },
  {
   "cell_type": "markdown",
   "metadata": {},
   "source": [
    "### Plot the Model"
   ]
  },
  {
   "cell_type": "code",
   "execution_count": 17,
   "metadata": {},
   "outputs": [
    {
     "data": {
      "image/png": "[encoded data removed]",
      "text/plain": [
       "<Figure size 432x288 with 1 Axes>"
      ]
     },
     "metadata": {
      "needs_background": "light"
     },
     "output_type": "display_data"
    }
   ],
   "source": [
    "# Plot the model\n",
    "x_min = np.array([[X_train_scaled.min()]])\n",
    "x_max = np.array([[X_train_scaled.max()]])\n",
    "y_min = linear.predict(x_min)\n",
    "y_max = linear.predict(x_max)\n",
    "plt.scatter(X_train_scaled, y_train_scaled, c='blue')\n",
    "plt.plot([x_min[0], x_max[0]], [y_min[0], y_max[0]], c='red')\n",
    "plt.title(\"Linear Regression Model\")\n",
    "plt.xlabel(f\"{indicator} (Scaled)\")\n",
    "plt.ylabel(\"HDI (Scaled)\")\n",
    "plt.show()"
   ]
  },
  {
   "cell_type": "markdown",
   "metadata": {},
   "source": [
    "### Predicting HDI value"
   ]
  },
  {
   "cell_type": "code",
   "execution_count": 18,
   "metadata": {},
   "outputs": [
    {
     "name": "stdout",
     "output_type": "stream",
     "text": [
      "If a country's Gender Inequality Index is 0.9, we expect HDI to be approximately 0.35799214008424524.\n"
     ]
    }
   ],
   "source": [
    "feed_value = 0.9\n",
    "X_scaled = X_scaler.transform([[feed_value]])\n",
    "y_scaled = linear.predict(X_scaled)\n",
    "predicted_y = y_scaler.inverse_transform(y_scaled)\n",
    "predicted_HDI = predicted_y[0][0]\n",
    "predicted_HDI\n",
    "print(f\"If a country's {indicator} is {feed_value}, we expect HDI to be approximately {predicted_HDI}.\")"
   ]
  },
  {
   "cell_type": "markdown",
   "metadata": {},
   "source": [
    "### Plot the Residuals"
   ]
  },
  {
   "cell_type": "code",
   "execution_count": 19,
   "metadata": {},
   "outputs": [
    {
     "data": {
      "image/png": "[encoded data removed]",
      "text/plain": [
       "<Figure size 432x288 with 1 Axes>"
      ]
     },
     "metadata": {
      "needs_background": "light"
     },
     "output_type": "display_data"
    }
   ],
   "source": [
    "# Plot the residuals\n",
    "y_train_predict = linear.predict(X_train_scaled)\n",
    "y_test_predict = linear.predict(X_test_scaled)\n",
    "y_train_residual = linear.predict(X_train_scaled) - y_train_scaled\n",
    "y_test_residual = linear.predict(X_test_scaled) - y_test_scaled\n",
    "\n",
    "plt.scatter(y_train_predict, y_train_residual, c=\"blue\", label=\"Training Data\")\n",
    "plt.scatter(y_test_predict, y_test_residual, c=\"orange\", label=\"Testing Data\")\n",
    "plt.legend()\n",
    "plt.hlines(y=0, xmin=y_train_predict.min(), xmax=y_train_predict.max())\n",
    "plt.title(\"Residual Plot\")\n",
    "plt.xlabel(\"Prediction\")\n",
    "plt.ylabel(\"Residual\")\n",
    "plt.show()"
   ]
  },
  {
   "cell_type": "code",
   "execution_count": null,
   "metadata": {},
   "outputs": [],
   "source": []
  }
 ],
 "metadata": {
  "kernelspec": {
   "display_name": "Python 3",
   "language": "python",
   "name": "python3"
  },
  "language_info": {
   "codemirror_mode": {
    "name": "ipython",
    "version": 3
   },
   "file_extension": ".py",
   "mimetype": "text/x-python",
   "name": "python",
   "nbconvert_exporter": "python",
   "pygments_lexer": "ipython3",
   "version": "3.6.8"
  }
 },
 "nbformat": 4,
 "nbformat_minor": 2
}
